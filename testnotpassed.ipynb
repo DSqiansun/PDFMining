{
 "cells": [
  {
   "cell_type": "markdown",
   "metadata": {},
   "source": [
    "# Test sur page 48 de Base SIREN.pdf"
   ]
  },
  {
   "cell_type": "code",
   "execution_count": 3,
   "metadata": {
    "collapsed": false
   },
   "outputs": [],
   "source": [
    "\n",
    "\n",
    "from PdfMinerWrapper import PdfMinerWrapper\n",
    "\n",
    "\n",
    "# In[12]:\n",
    "\n",
    "import re\n",
    "import pandas as pd\n",
    "import numpy as np\n",
    "\n",
    "from pdfminer.pdfparser import PDFParser\n",
    "from pdfminer.pdfpage import PDFPage\n",
    "from pdfminer.pdfdocument import PDFDocument\n",
    "from pdfminer.pdfinterp import PDFResourceManager, PDFPageInterpreter\n",
    "from pdfminer.converter import PDFPageAggregator\n",
    "from pdfminer.layout import LAParams, LTTextBox,LTChar, LTFigure,LTTextLineHorizontal, LTText\n",
    "import sys\n",
    "\n",
    "\n"
   ]
  },
  {
   "cell_type": "markdown",
   "metadata": {},
   "source": [
    "## Ouvrir le fichier pdf *test5.pdf* pour comparer\n",
    "    Dans ce cas il s'agit d'un URL qui contient les modalitées donc impossibilité de les extraire directement du fichier pdf "
   ]
  },
  {
   "cell_type": "code",
   "execution_count": 4,
   "metadata": {
    "collapsed": false,
    "scrolled": false
   },
   "outputs": [
    {
     "name": "stdout",
     "output_type": "stream",
     "text": [
      "Activité principale de l'établissement - APET700 \n",
      "\n",
      "DIFFUSION SIRENE \n",
      "\n",
      "Définition \n",
      "\n",
      "Chacun  des  établissements  d'une  entreprise  se  voit  attribuer  par  l'Insee,  lors \n",
      "de  son  inscription  au  répertoire  SIRENE,  un  code  caractérisant  son  activité \n",
      "principale, appelé code APE (Activité Principale Exercée).  L'APE est codifiée \n",
      "selon  la  Nomenclature  d'Activités  Française  (NAF  :  Rév2,  2008).  Les \n",
      "établissements d'une même entreprise peuvent avoir des activités différentes. \n",
      "\n",
      "Pour en savoir plus \n",
      "\n",
      "Cette variable est systématiquement renseignée. \n",
      "\n",
      "Si  une  entreprise  n'a  qu'un  seul  établissement,  l'APE  de  l'établissement \n",
      "(APET) est égal à l'APE de l'entreprise (APEN). Au moment de la déclaration \n",
      "de  l'entreprise,  il  peut  arriver  que  l'Insee  ne  soit  pas  en  mesure  d'attribuer  le \n",
      "bon code APE : la modalité 0000Z peut alors être affectée provisoirement. \n",
      "\n",
      "Source et actualisation \n",
      "\n",
      "Répertoire SIRENE \n",
      "\n",
      "Le  code  APET700  est  renseigné  au  répertoire  SIRENE  au  moment  du \n",
      "traitement de la déclaration de l'entreprise. \n",
      "\n",
      "Il peut être mis à jour à l'issue d'une déclaration de l'entreprise ou bien à partir \n",
      "d'enquêtes soit statistiques, soit d'amélioration du répertoire. \n",
      "\n",
      "Longueur \n",
      "\n",
      "Type \n",
      "\n",
      "5 \n",
      "\n",
      "Alphanumérique \n",
      "\n",
      "Renseignement \n",
      "\n",
      "Variable renseignée en totalité ou partiellement . \n",
      "\n",
      "Qualité \n",
      "\n",
      "Liste des modalités \n",
      "\n",
      "Il s'agit d'une variable calculée par l'Insee ou déclarée par les entreprises mais \n",
      "faisant l'objet de contrôle par l'Insee. \n",
      "http://www.insee.fr/fr/methodes/default.asp?page=nomenclatures/naf2008/naf2\n",
      "008.htm \n",
      "\n",
      "Description complète du dessin des fichiers stock et mises à jour mensuelles\n",
      "\n",
      "48\n",
      "\n"
     ]
    },
    {
     "data": {
      "text/html": [
       "<div>\n",
       "<table border=\"1\" class=\"dataframe\">\n",
       "  <thead>\n",
       "    <tr style=\"text-align: right;\">\n",
       "      <th></th>\n",
       "      <th>VariableId</th>\n",
       "      <th>Modality</th>\n",
       "      <th>Modality description</th>\n",
       "    </tr>\n",
       "  </thead>\n",
       "  <tbody>\n",
       "    <tr>\n",
       "      <th>0</th>\n",
       "      <td>APET700</td>\n",
       "      <td>NA</td>\n",
       "      <td>NA</td>\n",
       "    </tr>\n",
       "    <tr>\n",
       "      <th>1</th>\n",
       "      <td>APET700</td>\n",
       "      <td>NA</td>\n",
       "      <td>NA</td>\n",
       "    </tr>\n",
       "    <tr>\n",
       "      <th>2</th>\n",
       "      <td>APET700</td>\n",
       "      <td>NA</td>\n",
       "      <td>NA</td>\n",
       "    </tr>\n",
       "  </tbody>\n",
       "</table>\n",
       "</div>"
      ],
      "text/plain": [
       "  VariableId Modality Modality description\n",
       "0    APET700       NA                   NA\n",
       "1    APET700       NA                   NA\n",
       "2    APET700       NA                   NA"
      ]
     },
     "execution_count": 4,
     "metadata": {},
     "output_type": "execute_result"
    }
   ],
   "source": [
    "with PdfMinerWrapper('test5.pdf') as doc:\n",
    "    \n",
    "    #Prepare modalities dataset\n",
    "    df=pd.DataFrame(columns=[\"VariableId\",\"Modality\",\"Modality description\"])\n",
    "    \n",
    "    #Pattern to select pages\n",
    "    check=re.compile(r'Liste des modalités')\n",
    "    \n",
    "    #Variable Id pattern\n",
    "    VariableIdpat=re.compile(r'[A-Z]{2,}[_]*[A-Z]{2,}[0-9]*')\n",
    "    \n",
    "    #Modality Pattern\n",
    "    pat=re.compile(r'[A-Z]+\\s+.*|[0-9]{1,}\\s+.*')\n",
    "    \n",
    "    \n",
    "    for page in doc:\n",
    "        \n",
    "        #check if there is modalities in the page\n",
    "        modalitiesAreAvailable=False\n",
    "        for tbox in page:\n",
    "            if isinstance(tbox,LTText): \n",
    "                if re.match(check,tbox.get_text())!=None:\n",
    "                    modalitiesAreAvailable=True\n",
    "                    break\n",
    "        \n",
    "        if modalitiesAreAvailable:\n",
    "            s=0\n",
    "            for tbox in page:\n",
    "                if  isinstance(tbox,LTText) and tbox.index==0 :\n",
    "\n",
    "                    VariableId=re.findall(VariableIdpat,tbox.get_text()).pop() \n",
    "                    #print(\"L'id de la variable est\",VariableId)\n",
    "\n",
    "                    \n",
    "\n",
    "                if isinstance(tbox,LTText):\n",
    "                    #print(tbox.index)\n",
    "\n",
    "\n",
    "                    print(tbox.get_text())\n",
    "                    mlist=re.findall(pat,tbox.get_text())\n",
    "                    if(len(mlist)>s):\n",
    "                        Mod=mlist\n",
    "                        s=len(Mod)\n",
    "            ##print(Mod)\n",
    "            for i in range(0,len(Mod)):\n",
    "                ML=Mod[i].split(sep=\"  \")\n",
    "                ##print(\"fsrgrsg\",ML)\n",
    "                if len(ML)==2:\n",
    "                    row=[VariableId,ML[0],ML[1]]\n",
    "                    df.loc[i]=row\n",
    "                else:\n",
    "                    row=[VariableId,'NA','NA']\n",
    "                    df.loc[i]=row\n",
    "    \n",
    "df.head(45)\n"
   ]
  },
  {
   "cell_type": "code",
   "execution_count": null,
   "metadata": {
    "collapsed": true
   },
   "outputs": [],
   "source": [
    "a=\"ALL  Allé\""
   ]
  },
  {
   "cell_type": "code",
   "execution_count": null,
   "metadata": {
    "collapsed": false
   },
   "outputs": [],
   "source": [
    "a.split(sep=\"  \")"
   ]
  },
  {
   "cell_type": "code",
   "execution_count": null,
   "metadata": {
    "collapsed": true
   },
   "outputs": [],
   "source": []
  }
 ],
 "metadata": {
  "kernelspec": {
   "display_name": "Python 3",
   "language": "python",
   "name": "python3"
  },
  "language_info": {
   "codemirror_mode": {
    "name": "ipython",
    "version": 3
   },
   "file_extension": ".py",
   "mimetype": "text/x-python",
   "name": "python",
   "nbconvert_exporter": "python",
   "pygments_lexer": "ipython3",
   "version": "3.6.0"
  }
 },
 "nbformat": 4,
 "nbformat_minor": 2
}
