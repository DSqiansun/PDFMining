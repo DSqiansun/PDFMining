{
 "cells": [
  {
   "cell_type": "markdown",
   "metadata": {},
   "source": [
    "# Test sur page 43 de Base SIREN.pdf"
   ]
  },
  {
   "cell_type": "code",
   "execution_count": 4,
   "metadata": {
    "collapsed": false
   },
   "outputs": [],
   "source": [
    "\n",
    "\n",
    "from PdfMinerWrapper import PdfMinerWrapper\n",
    "\n",
    "\n",
    "# In[12]:\n",
    "\n",
    "import re\n",
    "import pandas as pd\n",
    "import numpy as np\n",
    "\n",
    "from pdfminer.pdfparser import PDFParser\n",
    "from pdfminer.pdfpage import PDFPage\n",
    "from pdfminer.pdfdocument import PDFDocument\n",
    "from pdfminer.pdfinterp import PDFResourceManager, PDFPageInterpreter\n",
    "from pdfminer.converter import PDFPageAggregator\n",
    "from pdfminer.layout import LAParams, LTTextBox,LTChar, LTFigure,LTTextLineHorizontal, LTText\n",
    "import sys\n",
    "\n",
    "\n"
   ]
  },
  {
   "cell_type": "markdown",
   "metadata": {},
   "source": [
    "## Ouvrir le fichier pdf *test3.pdf* pour comparer\n",
    "La page interpretée par pdfminer ne corresepend pas à l'expression régulière prédéfinie"
   ]
  },
  {
   "cell_type": "code",
   "execution_count": 5,
   "metadata": {
    "collapsed": false,
    "scrolled": false
   },
   "outputs": [
    {
     "name": "stdout",
     "output_type": "stream",
     "text": [
      "Indicateur du champ du publipostage - IND_PUBLIPO \n",
      "\n",
      "DIFFUSION SIRENE \n",
      "\n",
      "Définition \n",
      "\n",
      "Cette  variable  est  un  indicateur  du  champ  du  publipostage  qui  indique  si \n",
      "l'établissement appartient à ce champ ou non.  \n",
      "Le  champ  du  publipostage  correspond  aux  établissements  qui  à  la  fois  font \n",
      "partie  des  domaines  d'intérêt  du  publipostage  et  dont  la  qualité  d'adressage \n",
      "est considérée comme suffisante. \n",
      "\n",
      "Pour en savoir plus \n",
      "\n",
      "Les domaines d'intérêt du publipostage correspondent : \n",
      "\n",
      "- aux établissements productifs auxquels on ajoute ou retire certains secteurs \n",
      "d'activité, \n",
      "\n",
      "-  et  aux  établissements  non  productifs  employeurs  (établissement  ayant  un \n",
      "effectif positif, prestataires de personnel). \n",
      "\n",
      "La qualité d'adressage jugée suffisante pour un publipostage est déterminée à \n",
      "partir  d'informations  connues  sur  l'établissement  concernant  les  Plis  Non \n",
      "Distribués (PND), les retraitements de l'adresse et autres modifications dans le \n",
      "répertoire. \n",
      "\n",
      "Source et actualisation \n",
      "\n",
      "\"SIRENE® base de données\" \n",
      "\n",
      "Longueur \n",
      "\n",
      "Type \n",
      "\n",
      "1 \n",
      "\n",
      "Alphanumérique \n",
      "\n",
      "Renseignement \n",
      "\n",
      "Variable renseignée en totalité ou partiellement . \n",
      "\n",
      "Qualité \n",
      "\n",
      "Liste des modalités \n",
      "\n",
      "Il s'agit d'une variable calculée par l'Insee ou déclarée par les entreprises mais \n",
      "faisant l'objet de contrôle par l'Insee. \n",
      "0 \n",
      "1 \n",
      "\n",
      "établissement ne faisant pas partie du champ du publipostage \n",
      "établissement faisant partie du champ du publipostage\n",
      "\n",
      "Description complète du dessin des fichiers stock et mises à jour mensuelles\n",
      "\n",
      "43\n",
      "\n"
     ]
    },
    {
     "data": {
      "text/html": [
       "<div>\n",
       "<table border=\"1\" class=\"dataframe\">\n",
       "  <thead>\n",
       "    <tr style=\"text-align: right;\">\n",
       "      <th></th>\n",
       "      <th>VariableId</th>\n",
       "      <th>Modality</th>\n",
       "      <th>Modality description</th>\n",
       "    </tr>\n",
       "  </thead>\n",
       "  <tbody>\n",
       "    <tr>\n",
       "      <th>0</th>\n",
       "      <td>IND_PUBLIPO</td>\n",
       "      <td>NA</td>\n",
       "      <td>NA</td>\n",
       "    </tr>\n",
       "  </tbody>\n",
       "</table>\n",
       "</div>"
      ],
      "text/plain": [
       "    VariableId Modality Modality description\n",
       "0  IND_PUBLIPO       NA                   NA"
      ]
     },
     "execution_count": 5,
     "metadata": {},
     "output_type": "execute_result"
    }
   ],
   "source": [
    "with PdfMinerWrapper('test3.pdf') as doc:\n",
    "    \n",
    "    #Prepare modalities dataset\n",
    "    df=pd.DataFrame(columns=[\"VariableId\",\"Modality\",\"Modality description\"])\n",
    "    \n",
    "    #Pattern to select pages\n",
    "    check=re.compile(r'Liste des modalités')\n",
    "    \n",
    "    #Variable Id pattern\n",
    "    VariableIdpat=re.compile(r'[A-Z]{2,}[_]*[A-Z]{2,}[0-9]*')\n",
    "    \n",
    "    #Modality Pattern\n",
    "    pat=re.compile(r'[A-Z]+\\s+.*|[0-9]{1,}\\s+.*')\n",
    "    \n",
    "    \n",
    "    for page in doc:\n",
    "        \n",
    "        #check if there is modalities in the page\n",
    "        modalitiesAreAvailable=False\n",
    "        for tbox in page:\n",
    "            if isinstance(tbox,LTText): \n",
    "                if re.match(check,tbox.get_text())!=None:\n",
    "                    modalitiesAreAvailable=True\n",
    "                    break\n",
    "        \n",
    "        if modalitiesAreAvailable:\n",
    "            s=0\n",
    "            for tbox in page:\n",
    "                if  isinstance(tbox,LTText) and tbox.index==0 :\n",
    "\n",
    "                    VariableId=re.findall(VariableIdpat,tbox.get_text()).pop() \n",
    "                    #print(\"L'id de la variable est\",VariableId)\n",
    "\n",
    "                    \n",
    "\n",
    "                if isinstance(tbox,LTText):\n",
    "                    #print(tbox.index)\n",
    "\n",
    "\n",
    "                    print(tbox.get_text())\n",
    "                    mlist=re.findall(pat,tbox.get_text())\n",
    "                    if(len(mlist)>s):\n",
    "                        Mod=mlist\n",
    "                        s=len(Mod)\n",
    "            ##print(Mod)\n",
    "            for i in range(0,len(Mod)):\n",
    "                ML=Mod[i].split(sep=\"  \")\n",
    "                ##print(\"fsrgrsg\",ML)\n",
    "                if len(ML)==2:\n",
    "                    row=[VariableId,ML[0],ML[1]]\n",
    "                    df.loc[i]=row\n",
    "                else:\n",
    "                    row=[VariableId,'NA','NA']\n",
    "                    df.loc[i]=row\n",
    "    \n",
    "df.head(45)\n"
   ]
  },
  {
   "cell_type": "code",
   "execution_count": null,
   "metadata": {
    "collapsed": true
   },
   "outputs": [],
   "source": [
    "a=\"ALL  Allé\""
   ]
  },
  {
   "cell_type": "code",
   "execution_count": null,
   "metadata": {
    "collapsed": false
   },
   "outputs": [],
   "source": [
    "a.split(sep=\"  \")"
   ]
  },
  {
   "cell_type": "code",
   "execution_count": null,
   "metadata": {
    "collapsed": true
   },
   "outputs": [],
   "source": []
  }
 ],
 "metadata": {
  "kernelspec": {
   "display_name": "Python 3",
   "language": "python",
   "name": "python3"
  },
  "language_info": {
   "codemirror_mode": {
    "name": "ipython",
    "version": 3
   },
   "file_extension": ".py",
   "mimetype": "text/x-python",
   "name": "python",
   "nbconvert_exporter": "python",
   "pygments_lexer": "ipython3",
   "version": "3.6.0"
  }
 },
 "nbformat": 4,
 "nbformat_minor": 2
}
