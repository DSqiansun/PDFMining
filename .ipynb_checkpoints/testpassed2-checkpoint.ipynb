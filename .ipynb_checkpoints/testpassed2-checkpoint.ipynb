{
 "cells": [
  {
   "cell_type": "markdown",
   "metadata": {},
   "source": [
    "# Test sur page 46 de Base SIREN.pdf"
   ]
  },
  {
   "cell_type": "code",
   "execution_count": 6,
   "metadata": {
    "collapsed": false
   },
   "outputs": [],
   "source": [
    "\n",
    "\n",
    "from PdfMinerWrapper import PdfMinerWrapper\n",
    "\n",
    "\n",
    "# In[12]:\n",
    "\n",
    "import re\n",
    "import pandas as pd\n",
    "import numpy as np\n",
    "\n",
    "from pdfminer.pdfparser import PDFParser\n",
    "from pdfminer.pdfpage import PDFPage\n",
    "from pdfminer.pdfdocument import PDFDocument\n",
    "from pdfminer.pdfinterp import PDFResourceManager, PDFPageInterpreter\n",
    "from pdfminer.converter import PDFPageAggregator\n",
    "from pdfminer.layout import LAParams, LTTextBox,LTChar, LTFigure,LTTextLineHorizontal, LTText\n",
    "import sys\n",
    "\n",
    "\n"
   ]
  },
  {
   "cell_type": "markdown",
   "metadata": {},
   "source": [
    "## Ouvrir le fichier pdf *test2.pdf* pour comparer\n",
    "La sortie du code donne la page pdf interprétée et la table de données associée"
   ]
  },
  {
   "cell_type": "code",
   "execution_count": 7,
   "metadata": {
    "collapsed": false,
    "scrolled": false
   },
   "outputs": [
    {
     "name": "stdout",
     "output_type": "stream",
     "text": [
      "Nature de l'établissement d'un entrepreneur individuel - NATETAB \n",
      "\n",
      "DIFFUSION SIRENE \n",
      "\n",
      "Définition \n",
      "\n",
      "Pour en savoir plus \n",
      "\n",
      "C'est  la  nature  de  l'activité  exercée  par  l'entrepreneur  individuel  (artisanale, \n",
      "commerciale, libérale etc). \n",
      "\n",
      "La  nature  de  l'activité  d'un  entrepreneur  individuel  est  issue,  pour  chaque \n",
      "établissement,  du  croisement  du  secteur  d’activité  principale  et  de \n",
      "l’appartenance  éventuelle  à  un  répertoire  ou  registre  (exemple:  registre  des \n",
      "métiers). \n",
      "\n",
      "Cette variable est à blanc pour les personnes morales. \n",
      "\n",
      "Source et actualisation \n",
      "\n",
      "Syracuse \n",
      "\n",
      "Longueur \n",
      "\n",
      "Type \n",
      "\n",
      "1 \n",
      "\n",
      "Alphanumérique \n",
      "\n",
      "Renseignement \n",
      "\n",
      "Variable renseignée en totalité ou partiellement . \n",
      "\n",
      "Qualité \n",
      "\n",
      "Liste des modalités \n",
      "\n",
      "Personne morale \n",
      "\n",
      "Il s'agit d'une variable calculée par l'Insee ou déclarée par les entreprises mais \n",
      "faisant l'objet de contrôle par l'Insee. \n",
      " \n",
      "1  Artisan-commerçant \n",
      "2  Commerçant \n",
      "3  Artisan \n",
      "5  Profession libérale \n",
      "6  Exploitant agricole \n",
      "9  Autre entrepreneur individuel\n",
      "\n",
      "Description complète du dessin des fichiers stock et mises à jour mensuelles\n",
      "\n",
      "46\n",
      "\n"
     ]
    },
    {
     "data": {
      "text/html": [
       "<div>\n",
       "<table border=\"1\" class=\"dataframe\">\n",
       "  <thead>\n",
       "    <tr style=\"text-align: right;\">\n",
       "      <th></th>\n",
       "      <th>VariableId</th>\n",
       "      <th>Modality</th>\n",
       "      <th>Modality description</th>\n",
       "    </tr>\n",
       "  </thead>\n",
       "  <tbody>\n",
       "    <tr>\n",
       "      <th>0</th>\n",
       "      <td>NATETAB</td>\n",
       "      <td>1</td>\n",
       "      <td>Artisan-commerçant</td>\n",
       "    </tr>\n",
       "    <tr>\n",
       "      <th>1</th>\n",
       "      <td>NATETAB</td>\n",
       "      <td>2</td>\n",
       "      <td>Commerçant</td>\n",
       "    </tr>\n",
       "    <tr>\n",
       "      <th>2</th>\n",
       "      <td>NATETAB</td>\n",
       "      <td>3</td>\n",
       "      <td>Artisan</td>\n",
       "    </tr>\n",
       "    <tr>\n",
       "      <th>3</th>\n",
       "      <td>NATETAB</td>\n",
       "      <td>5</td>\n",
       "      <td>Profession libérale</td>\n",
       "    </tr>\n",
       "    <tr>\n",
       "      <th>4</th>\n",
       "      <td>NATETAB</td>\n",
       "      <td>6</td>\n",
       "      <td>Exploitant agricole</td>\n",
       "    </tr>\n",
       "    <tr>\n",
       "      <th>5</th>\n",
       "      <td>NATETAB</td>\n",
       "      <td>9</td>\n",
       "      <td>Autre entrepreneur individuel</td>\n",
       "    </tr>\n",
       "  </tbody>\n",
       "</table>\n",
       "</div>"
      ],
      "text/plain": [
       "  VariableId Modality           Modality description\n",
       "0    NATETAB        1            Artisan-commerçant \n",
       "1    NATETAB        2                    Commerçant \n",
       "2    NATETAB        3                       Artisan \n",
       "3    NATETAB        5           Profession libérale \n",
       "4    NATETAB        6           Exploitant agricole \n",
       "5    NATETAB        9  Autre entrepreneur individuel"
      ]
     },
     "execution_count": 7,
     "metadata": {},
     "output_type": "execute_result"
    }
   ],
   "source": [
    "with PdfMinerWrapper('test2.pdf') as doc:\n",
    "    \n",
    "    #Prepare modalities dataset\n",
    "    df=pd.DataFrame(columns=[\"VariableId\",\"Modality\",\"Modality description\"])\n",
    "    \n",
    "    #Pattern to select pages\n",
    "    check=re.compile(r'Liste des modalités')\n",
    "    \n",
    "    #Variable Id pattern\n",
    "    VariableIdpat=re.compile(r'[A-Z]{2,}[_]*[A-Z]{2,}[0-9]*')\n",
    "    \n",
    "    #Modality Pattern\n",
    "    pat=re.compile(r'[A-Z]+\\s+.*|[0-9]{1,}\\s+.*')\n",
    "    \n",
    "    \n",
    "    for page in doc:\n",
    "        \n",
    "        #check if there is modalities in the page\n",
    "        modalitiesAreAvailable=False\n",
    "        for tbox in page:\n",
    "            if isinstance(tbox,LTText): \n",
    "                if re.match(check,tbox.get_text())!=None:\n",
    "                    modalitiesAreAvailable=True\n",
    "                    break\n",
    "        \n",
    "        if modalitiesAreAvailable:\n",
    "            s=0\n",
    "            for tbox in page:\n",
    "                if  isinstance(tbox,LTText) and tbox.index==0 :\n",
    "\n",
    "                    VariableId=re.findall(VariableIdpat,tbox.get_text()).pop() \n",
    "                    #print(\"L'id de la variable est\",VariableId)\n",
    "\n",
    "                    \n",
    "\n",
    "                if isinstance(tbox,LTText):\n",
    "                    #print(tbox.index)\n",
    "\n",
    "\n",
    "                    print(tbox.get_text())\n",
    "                    mlist=re.findall(pat,tbox.get_text())\n",
    "                    if(len(mlist)>s):\n",
    "                        Mod=mlist\n",
    "                        s=len(Mod)\n",
    "            ##print(Mod)\n",
    "            for i in range(0,len(Mod)):\n",
    "                ML=Mod[i].split(sep=\"  \")\n",
    "                ##print(\"fsrgrsg\",ML)\n",
    "                if len(ML)==2:\n",
    "                    row=[VariableId,ML[0],ML[1]]\n",
    "                    df.loc[i]=row\n",
    "                else:\n",
    "                    row=[VariableId,'NA','NA']\n",
    "                    df.loc[i]=row\n",
    "    \n",
    "df.head(45)\n"
   ]
  },
  {
   "cell_type": "code",
   "execution_count": null,
   "metadata": {
    "collapsed": true
   },
   "outputs": [],
   "source": [
    "a=\"ALL  Allé\""
   ]
  },
  {
   "cell_type": "code",
   "execution_count": null,
   "metadata": {
    "collapsed": false
   },
   "outputs": [],
   "source": [
    "a.split(sep=\"  \")"
   ]
  },
  {
   "cell_type": "code",
   "execution_count": null,
   "metadata": {
    "collapsed": true
   },
   "outputs": [],
   "source": []
  }
 ],
 "metadata": {
  "kernelspec": {
   "display_name": "Python 3",
   "language": "python",
   "name": "python3"
  },
  "language_info": {
   "codemirror_mode": {
    "name": "ipython",
    "version": 3
   },
   "file_extension": ".py",
   "mimetype": "text/x-python",
   "name": "python",
   "nbconvert_exporter": "python",
   "pygments_lexer": "ipython3",
   "version": "3.6.0"
  }
 },
 "nbformat": 4,
 "nbformat_minor": 2
}
